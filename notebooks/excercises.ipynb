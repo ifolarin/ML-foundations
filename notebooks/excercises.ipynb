{
 "cells": [
  {
   "cell_type": "markdown",
   "id": "ffc51902-b817-49ef-a4a7-5542d65c444c",
   "metadata": {
    "id": "aTOLgsbN69-P",
    "tags": []
   },
   "source": [
    "# Exercises from the Machine Learning Foundations Youtube Course by Jon Krohn"
   ]
  },
  {
   "cell_type": "markdown",
   "id": "ac5ad868-d9bc-4eda-b76c-2df19a1519ae",
   "metadata": {
    "tags": []
   },
   "source": [
    "## Exercises on Tensor Operations — Topic 15 of Machine Learning Foundations"
   ]
  },
  {
   "cell_type": "code",
   "execution_count": 4,
   "id": "ee94c81e-a57c-4c62-adf3-2ee2bc0098ac",
   "metadata": {
    "id": "LApX90aliab_",
    "tags": []
   },
   "outputs": [],
   "source": [
    "import numpy as np\n",
    "import matplotlib.pyplot as plt"
   ]
  },
  {
   "cell_type": "code",
   "execution_count": 5,
   "id": "ddd1665a-4f88-4e27-8762-e7eca54b706f",
   "metadata": {
    "id": "A9Hhazt2zKeD"
   },
   "outputs": [],
   "source": [
    "import torch"
   ]
  },
  {
   "cell_type": "code",
   "execution_count": 16,
   "id": "4d59727a-1d5f-4d16-9986-5038fc586e8e",
   "metadata": {
    "id": "CHBYse_MEqZM"
   },
   "outputs": [
    {
     "name": "stderr",
     "output_type": "stream",
     "text": [
      "2023-01-22 06:58:19.278461: I tensorflow/core/platform/cpu_feature_guard.cc:193] This TensorFlow binary is optimized with oneAPI Deep Neural Network Library (oneDNN) to use the following CPU instructions in performance-critical operations:  SSE4.1 SSE4.2 AVX AVX2 FMA\n",
      "To enable them in other operations, rebuild TensorFlow with the appropriate compiler flags.\n"
     ]
    }
   ],
   "source": [
    "import tensorflow as tf"
   ]
  },
  {
   "cell_type": "markdown",
   "id": "611039f7-3988-46d5-a7f1-8b31fab99860",
   "metadata": {
    "tags": []
   },
   "source": [
    "### What is Y Transpose?"
   ]
  },
  {
   "cell_type": "code",
   "execution_count": 13,
   "id": "625e01cd-126b-45bb-b476-1efbae96a911",
   "metadata": {
    "colab": {
     "base_uri": "https://localhost:8080/"
    },
    "id": "AEd8jB7YcgtT",
    "outputId": "9bc94f07-0ed4-4fbd-af11-678c736de291"
   },
   "outputs": [
    {
     "data": {
      "text/plain": [
       "array([[ 42,   4,   7,  99],\n",
       "       [-99,  -3,  17,  22]])"
      ]
     },
     "execution_count": 13,
     "metadata": {},
     "output_type": "execute_result"
    }
   ],
   "source": [
    "# Using numpy \n",
    "Y = np.array([[42, 4, 7,99],[-99,-3,17,22]])\n",
    "Y"
   ]
  },
  {
   "cell_type": "code",
   "execution_count": 9,
   "id": "bbcf6d56-a053-41a1-997e-543baaff2382",
   "metadata": {},
   "outputs": [
    {
     "data": {
      "text/plain": [
       "array([[ 42, -99],\n",
       "       [  4,  -3],\n",
       "       [  7,  17],\n",
       "       [ 99,  22]])"
      ]
     },
     "execution_count": 9,
     "metadata": {},
     "output_type": "execute_result"
    }
   ],
   "source": [
    "# Y transpose\n",
    "Y.T"
   ]
  },
  {
   "cell_type": "code",
   "execution_count": 14,
   "id": "d0f35a29-c891-4f10-9a46-caf258972bae",
   "metadata": {
    "colab": {
     "base_uri": "https://localhost:8080/"
    },
    "id": "AEd8jB7YcgtT",
    "outputId": "9bc94f07-0ed4-4fbd-af11-678c736de291"
   },
   "outputs": [
    {
     "data": {
      "text/plain": [
       "tensor([[ 42,   4,   7,  99],\n",
       "        [-99,  -3,  17,  22]])"
      ]
     },
     "execution_count": 14,
     "metadata": {},
     "output_type": "execute_result"
    }
   ],
   "source": [
    "# Using pytorch\n",
    "Y_T = torch.tensor([[42, 4, 7,99],[-99,-3,17,22]])\n",
    "Y_T"
   ]
  },
  {
   "cell_type": "code",
   "execution_count": 12,
   "id": "7b2c0b44-7b36-4435-83fb-06c7d44c5b05",
   "metadata": {},
   "outputs": [
    {
     "data": {
      "text/plain": [
       "tensor([[ 42, -99],\n",
       "        [  4,  -3],\n",
       "        [  7,  17],\n",
       "        [ 99,  22]])"
      ]
     },
     "execution_count": 12,
     "metadata": {},
     "output_type": "execute_result"
    }
   ],
   "source": [
    "# Y_T transpose\n",
    "Y_T.T"
   ]
  },
  {
   "cell_type": "code",
   "execution_count": 17,
   "id": "ef3b212d-586c-4a7b-bb76-b7726569c739",
   "metadata": {
    "colab": {
     "base_uri": "https://localhost:8080/"
    },
    "id": "AEd8jB7YcgtT",
    "outputId": "9bc94f07-0ed4-4fbd-af11-678c736de291"
   },
   "outputs": [
    {
     "name": "stderr",
     "output_type": "stream",
     "text": [
      "2023-01-22 06:58:23.978137: I tensorflow/core/platform/cpu_feature_guard.cc:193] This TensorFlow binary is optimized with oneAPI Deep Neural Network Library (oneDNN) to use the following CPU instructions in performance-critical operations:  SSE4.1 SSE4.2 AVX AVX2 FMA\n",
      "To enable them in other operations, rebuild TensorFlow with the appropriate compiler flags.\n"
     ]
    },
    {
     "data": {
      "text/plain": [
       "<tf.Variable 'Variable:0' shape=(2, 4) dtype=int32, numpy=\n",
       "array([[ 42,   4,   7,  99],\n",
       "       [-99,  -3,  17,  22]], dtype=int32)>"
      ]
     },
     "execution_count": 17,
     "metadata": {},
     "output_type": "execute_result"
    }
   ],
   "source": [
    "# Using tensorflow\n",
    "Y_TF = tf.Variable([[42, 4, 7,99],[-99,-3,17,22]])\n",
    "Y_TF"
   ]
  },
  {
   "cell_type": "code",
   "execution_count": 18,
   "id": "6a9e67ec-c0b7-492d-acf0-21bb4f3e9837",
   "metadata": {},
   "outputs": [
    {
     "data": {
      "text/plain": [
       "<tf.Tensor: shape=(4, 2), dtype=int32, numpy=\n",
       "array([[ 42, -99],\n",
       "       [  4,  -3],\n",
       "       [  7,  17],\n",
       "       [ 99,  22]], dtype=int32)>"
      ]
     },
     "execution_count": 18,
     "metadata": {},
     "output_type": "execute_result"
    }
   ],
   "source": [
    "# Y_TF transpose\n",
    "tf.transpose(Y_TF)"
   ]
  },
  {
   "cell_type": "markdown",
   "id": "009f9059-89fa-47bf-a975-151746f080fd",
   "metadata": {},
   "source": [
    "### What is the Hadamard product of the following matrics"
   ]
  },
  {
   "cell_type": "code",
   "execution_count": 21,
   "id": "71e9fad0-f97f-48a7-8031-43c43bda81c8",
   "metadata": {},
   "outputs": [
    {
     "data": {
      "text/plain": [
       "array([[25, 10],\n",
       "       [-2, -1]])"
      ]
     },
     "execution_count": 21,
     "metadata": {},
     "output_type": "execute_result"
    }
   ],
   "source": [
    "I = np.array([[25, 10],[-2,-1]])\n",
    "I"
   ]
  },
  {
   "cell_type": "code",
   "execution_count": 23,
   "id": "6c2b0b43-1576-4418-afd3-2bbfb3a66cfe",
   "metadata": {},
   "outputs": [
    {
     "data": {
      "text/plain": [
       "array([[-1,  7],\n",
       "       [10,  8]])"
      ]
     },
     "execution_count": 23,
     "metadata": {},
     "output_type": "execute_result"
    }
   ],
   "source": [
    "J = np.array([[-1, 7],[10,8]])\n",
    "J"
   ]
  },
  {
   "cell_type": "markdown",
   "id": "d821731b-f4e0-4793-a452-3415e6419162",
   "metadata": {},
   "source": [
    "The Hadamard product:  $I \\odot J$ is ..."
   ]
  },
  {
   "cell_type": "code",
   "execution_count": 25,
   "id": "4fe58343-93f6-4ad4-8e40-6846bb7f1c5a",
   "metadata": {},
   "outputs": [
    {
     "data": {
      "text/plain": [
       "array([[-25,  70],\n",
       "       [-20,  -8]])"
      ]
     },
     "execution_count": 25,
     "metadata": {},
     "output_type": "execute_result"
    }
   ],
   "source": [
    "# Hadamard product of I and J\n",
    "I * J"
   ]
  },
  {
   "cell_type": "markdown",
   "id": "296a05df-1db2-4804-9186-75890487bbfe",
   "metadata": {},
   "source": [
    "### What is the dot product of the vectors w and x"
   ]
  },
  {
   "cell_type": "code",
   "execution_count": 33,
   "id": "0a624917-4be3-4156-af10-d5399db1388e",
   "metadata": {},
   "outputs": [],
   "source": [
    "w = np.array([-1,2,-2])\n",
    "x = np.array([5,10,0])"
   ]
  },
  {
   "cell_type": "code",
   "execution_count": 34,
   "id": "3797b917-c48a-47cb-b531-944f41acbad5",
   "metadata": {},
   "outputs": [
    {
     "data": {
      "text/plain": [
       "15"
      ]
     },
     "execution_count": 34,
     "metadata": {},
     "output_type": "execute_result"
    }
   ],
   "source": [
    "# the dot product of w and x is: \n",
    "np.dot(w,x)"
   ]
  },
  {
   "cell_type": "code",
   "execution_count": null,
   "id": "a41ea13c-e0b4-48c1-9a90-13197ab2a29e",
   "metadata": {},
   "outputs": [],
   "source": []
  }
 ],
 "metadata": {
  "kernelspec": {
   "display_name": "Python 3 (ipykernel)",
   "language": "python",
   "name": "python3"
  },
  "language_info": {
   "codemirror_mode": {
    "name": "ipython",
    "version": 3
   },
   "file_extension": ".py",
   "mimetype": "text/x-python",
   "name": "python",
   "nbconvert_exporter": "python",
   "pygments_lexer": "ipython3",
   "version": "3.10.8"
  }
 },
 "nbformat": 4,
 "nbformat_minor": 5
}
